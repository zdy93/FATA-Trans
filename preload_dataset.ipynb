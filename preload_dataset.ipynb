{
 "cells": [
  {
   "cell_type": "code",
   "execution_count": 2,
   "id": "b6c848fd-7dbc-4bcd-bfd4-8f4782a3b923",
   "metadata": {},
   "outputs": [],
   "source": [
    "from dataset.amazon_preload import AmazonPreloadDataset\n",
    "from dataset.ibm_preload import IBMPreloadDataset\n",
    "import os.path as path"
   ]
  },
  {
   "cell_type": "code",
   "execution_count": null,
   "id": "6da683a7-e289-4660-a96c-46f2f95aad02",
   "metadata": {
    "tags": [
     "parameters"
    ]
   },
   "outputs": [],
   "source": [
    "root=\"./data/amazon_movie/\"\n",
    "fname=\"Movies_and_TV_5\"\n",
    "val_fname=\"\"\n",
    "test_fname=\"\"\n",
    "fextension=\"\"\n",
    "cached=True\n",
    "val_cached=True\n",
    "test_cached=True\n",
    "vocab_cached=False\n",
    "encoder_cached=True\n",
    "external_encoder_path=\"\"\n",
    "data_source=\"amazon\"\n",
    "external_val=False"
   ]
  },
  {
   "cell_type": "code",
   "execution_count": null,
   "id": "9601bd62-1cdd-455e-9dc0-791bd84760e7",
   "metadata": {},
   "outputs": [],
   "source": [
    "if fextension == False:\n",
    "    fextension=\"\"\n",
    "if external_encoder_path == False:\n",
    "    external_encoder_path=\"\""
   ]
  },
  {
   "cell_type": "code",
   "execution_count": null,
   "id": "c9ec5805-718e-491b-abd2-9fcd87ab03ed",
   "metadata": {},
   "outputs": [],
   "source": [
    "assert fextension in [\"preload\", \"preload-test\"]\n",
    "assert data_source in [\"amazon\", \"IBM\"]\n",
    "\n",
    "if data_source == \"amazon\":\n",
    "    dataset_class = \"AmazonPreloadDataset\"\n",
    "else:\n",
    "    dataset_class = \"IBMPreloadDataset\""
   ]
  },
  {
   "cell_type": "code",
   "execution_count": null,
   "id": "7bfb88d1-9a6b-4db2-9cf4-8de4c0df9469",
   "metadata": {},
   "outputs": [],
   "source": [
    "dataset = eval(dataset_class)(num_bins=10,\n",
    "                             cached=cached,\n",
    "                             encoder_cached=encoder_cached,\n",
    "                             external_encoder_path=external_encoder_path,\n",
    "                             vocab_cached=vocab_cached,\n",
    "                             root=root,\n",
    "                             fname=fname,\n",
    "                             vocab_dir=root,\n",
    "                             fextension=fextension,\n",
    "                             nrows=None,\n",
    "                             adap_thres=10 ** 8,\n",
    "                             get_rids=True,\n",
    "                             columns_to_select=None)\n",
    "\n",
    "print(len(dataset.dynamic_vocab), len(dataset.time_feature_vocab), len(dataset.static_vocab))"
   ]
  },
  {
   "cell_type": "code",
   "execution_count": null,
   "id": "19135646-6f24-4d5f-bad9-46d90fc08afd",
   "metadata": {},
   "outputs": [],
   "source": [
    "if encoder_cached == False:\n",
    "    external_encoder_path=dataset.encoder_path\n",
    "vocab_cached=True\n",
    "encoder_cached=True"
   ]
  },
  {
   "cell_type": "code",
   "execution_count": null,
   "id": "b71d240d-089b-4e16-b85c-2d3f6298e481",
   "metadata": {},
   "outputs": [],
   "source": [
    "if external_val:\n",
    "    val_dataset = eval(dataset_class)(num_bins=10,\n",
    "                                     cached=val_cached,\n",
    "                                     encoder_cached=encoder_cached,\n",
    "                                     external_encoder_path=external_encoder_path,\n",
    "                                     vocab_cached=vocab_cached,\n",
    "                                     root=root,\n",
    "                                     fname=val_fname,\n",
    "                                     vocab_dir=root,\n",
    "                                     fextension=fextension,\n",
    "                                     nrows=None,\n",
    "                                     adap_thres=10 ** 8,\n",
    "                                     get_rids=True,\n",
    "                                     columns_to_select=None)\n",
    "\n",
    "    print(len(val_dataset.dynamic_vocab), len(val_dataset.time_feature_vocab), len(val_dataset.static_vocab))\n",
    "else:\n",
    "    print(\"validation set is subset of train dataset\")\n",
    "\n",
    "test_dataset = eval(dataset_class)(num_bins=10,\n",
    "                                 cached=test_cached,\n",
    "                                 encoder_cached=encoder_cached,\n",
    "                                 external_encoder_path=external_encoder_path,\n",
    "                                 vocab_cached=vocab_cached,\n",
    "                                 root=root,\n",
    "                                 fname=test_fname,\n",
    "                                 vocab_dir=root,\n",
    "                                 fextension=fextension,\n",
    "                                 nrows=None,\n",
    "                                 adap_thres=10 ** 8,\n",
    "                                 get_rids=True,\n",
    "                                 columns_to_select=None)\n",
    "\n",
    "print(len(test_dataset.dynamic_vocab), len(test_dataset.time_feature_vocab), len(test_dataset.static_vocab))"
   ]
  }
 ],
 "metadata": {
  "kernelspec": {
   "display_name": "py3.7-visa",
   "language": "python",
   "name": "py3.7-visa"
  },
  "language_info": {
   "codemirror_mode": {
    "name": "ipython",
    "version": 3
   },
   "file_extension": ".py",
   "mimetype": "text/x-python",
   "name": "python",
   "nbconvert_exporter": "python",
   "pygments_lexer": "ipython3",
   "version": "3.7.6"
  }
 },
 "nbformat": 4,
 "nbformat_minor": 5
}
