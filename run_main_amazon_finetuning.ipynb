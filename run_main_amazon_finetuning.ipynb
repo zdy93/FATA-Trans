{
 "cells": [
  {
   "cell_type": "code",
   "execution_count": null,
   "id": "eb557792-36e0-411c-825b-bec7cec2e4ae",
   "metadata": {},
   "outputs": [],
   "source": [
    "# edited by Dongyu Zhang\n",
    "from os import makedirs\n",
    "from os.path import join, basename\n",
    "import logging\n",
    "import numpy as np\n",
    "import torch\n",
    "import random\n",
    "from args import define_new_main_parser\n",
    "import json\n",
    "\n",
    "from transformers import Trainer, TrainingArguments, EarlyStoppingCallback\n",
    "\n",
    "from dataset.amazon import AmazonDataset\n",
    "from dataset.amazon_time_static import AmazonWithTimePosAndStaticSplitDataset\n",
    "from dataset.amazon_time_pos import AmazonWithTimePosDataset\n",
    "from dataset.amazon_static import AmazonWithStaticSplitDataset\n",
    "from models.modules import TabFormerBertLM, TabFormerBertForClassification, TabFormerBertModel, TabStaticFormerBert, \\\n",
    "    TabStaticFormerBertLM, TabStaticFormerBertClassification\n",
    "from misc.utils import ordered_split_dataset, compute_cls_metrics\n",
    "from dataset.datacollator_mask_label import *\n",
    "from main_amazon import main\n",
    "\n",
    "logger = logging.getLogger(__name__)\n",
    "log = logger\n",
    "logging.basicConfig(\n",
    "    format=\"%(asctime)s - %(levelname)s - %(name)s -   %(message)s\",\n",
    "    datefmt=\"%m/%d/%Y %H:%M:%S\",\n",
    "    level=logging.INFO,\n",
    ")\n",
    "\n",
    "import os\n",
    "os.environ[\"WANDB_DISABLED\"] = \"true\""
   ]
  },
  {
   "cell_type": "code",
   "execution_count": null,
   "id": "3be868be-4226-4dce-b3cc-f5d4fb449e9a",
   "metadata": {
    "tags": [
     "parameters"
    ]
   },
   "outputs": [],
   "source": [
    "data=\"amazon_movie\"\n",
    "dt=\"amazon\"\n",
    "time_pos_type=\"regular_position\"\n",
    "fextension=False\n",
    "fname=\"Movies_and_TV_train\"\n",
    "val_fname=\"Movies_and_TV_val\"\n",
    "test_fname=\"Movies_and_TV_test\"\n",
    "preload_fextension=\"preload-test\"\n",
    "bs=32\n",
    "nb=10\n",
    "num_train_epochs=3\n",
    "save_steps=1000\n",
    "eval_steps=1000\n",
    "pretrained_dir=\"\"\n",
    "external_val=True\n",
    "output_dir=\"\"\n",
    "checkpoint=None"
   ]
  },
  {
   "cell_type": "code",
   "execution_count": null,
   "id": "196bbc16-1886-4dc5-9441-f25b6e0eb247",
   "metadata": {},
   "outputs": [],
   "source": [
    "arg_str = f\"--do_train \\\n",
    "    --do_eval \\\n",
    "    --cls_task \\\n",
    "    --long_and_sort \\\n",
    "    --pad_seq_first \\\n",
    "    --get_rids \\\n",
    "    --field_ce \\\n",
    "    --lm_type bert \\\n",
    "    --field_hs 64 \\\n",
    "    --data_type {dt} \\\n",
    "    --stride 1 \\\n",
    "    --data_root ./data/{data}/ \\\n",
    "    --train_batch_size {bs} \\\n",
    "    --eval_batch_size {bs} \\\n",
    "    --save_steps {save_steps} \\\n",
    "    --eval_steps {eval_steps} \\\n",
    "    --nbatches {nb} \\\n",
    "    --num_train_epochs {num_train_epochs} \\\n",
    "    --data_fname {fname} \\\n",
    "    --data_val_fname {val_fname} \\\n",
    "    --data_test_fname {test_fname} \\\n",
    "    --user_level_cached \\\n",
    "    --vocab_cached \\\n",
    "    --preload_fextension {preload_fextension} \\\n",
    "    --pretrained_dir {pretrained_dir} \\\n",
    "    --output_dir {output_dir} \\\n",
    "    --time_pos_type {time_pos_type} \\\n",
    "    \"\n",
    "if fextension:\n",
    "    arg_str += f\"--fextension {fextension} \\\n",
    "    --external_vocab_path ./data/{data}/vocab_ob_{fextension}\"\n",
    "else:\n",
    "    arg_str += f\"--external_vocab_path ./data/{data}/vocab_ob\"\n",
    "if external_val:\n",
    "    arg_str += f\"\\\n",
    "    --external_val\"\n",
    "if checkpoint is not None:\n",
    "    arg_str += f\"\\\n",
    "    --checkpoint {checkpoint}\""
   ]
  },
  {
   "cell_type": "code",
   "execution_count": null,
   "id": "6b7b1fc7-1cb3-40bd-ae98-fe6c08d700a2",
   "metadata": {},
   "outputs": [],
   "source": [
    "parser = define_new_main_parser(data_type_choices=[\"amazon\", \"amazon_time_pos\", \"amazon_time_static\", \"amazon_static\"])\n",
    "opts = parser.parse_args(arg_str.split())"
   ]
  },
  {
   "cell_type": "code",
   "execution_count": null,
   "id": "74c489e9-c972-4f59-a3be-c63455f8ca6b",
   "metadata": {},
   "outputs": [],
   "source": [
    "opts.log_dir = join(opts.output_dir, \"logs\")\n",
    "makedirs(opts.output_dir, exist_ok=True)\n",
    "makedirs(opts.log_dir, exist_ok=True)\n",
    "\n",
    "file_handler = logging.FileHandler(\n",
    "    join(opts.log_dir, 'output.log'), 'w', 'utf-8')\n",
    "logger.addHandler(file_handler)\n",
    "\n",
    "opts.cls_exp_task = opts.cls_task or opts.export_task\n",
    "\n",
    "if opts.data_type in [\"amazon_time_pos\", \"amazon_time_static\"]:\n",
    "    assert opts.time_pos_type == 'time_aware_sin_cos_position'\n",
    "elif opts.data_type in [\"amazon\", \"amazon_static\"]:\n",
    "    assert opts.time_pos_type in ['sin_cos_position', 'regular_position']\n",
    "\n",
    "if opts.mlm and opts.lm_type == \"gpt2\":\n",
    "    raise Exception(\n",
    "        \"Error: GPT2 doesn't need '--mlm' option. Please re-run with this flag removed.\")\n",
    "\n",
    "if (not opts.mlm) and (not opts.cls_exp_task) and opts.lm_type == \"bert\":\n",
    "    raise Exception(\n",
    "        \"Error: Bert needs either '--mlm', '--cls_task' or '--export_task' option. Please re-run with this flag \"\n",
    "        \"included.\")\n",
    "\n",
    "main(opts)"
   ]
  }
 ],
 "metadata": {
  "kernelspec": {
   "display_name": "py3.7-visa",
   "language": "python",
   "name": "py3.7-visa"
  },
  "language_info": {
   "codemirror_mode": {
    "name": "ipython",
    "version": 3
   },
   "file_extension": ".py",
   "mimetype": "text/x-python",
   "name": "python",
   "nbconvert_exporter": "python",
   "pygments_lexer": "ipython3",
   "version": "3.7.6"
  }
 },
 "nbformat": 4,
 "nbformat_minor": 5
}
