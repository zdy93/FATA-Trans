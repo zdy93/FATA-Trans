{
 "cells": [
  {
   "cell_type": "markdown",
   "metadata": {},
   "source": [
    "# Process Dataset"
   ]
  },
  {
   "cell_type": "code",
   "execution_count": 2,
   "metadata": {
    "collapsed": false,
    "jupyter": {
     "outputs_hidden": false
    },
    "pycharm": {
     "name": "#%%\n"
    }
   },
   "outputs": [],
   "source": [
    "# from dataset.visa_data import VisaTranasactionDataset\n",
    "# import importlib, sys\n",
    "# importlib.reload(sys.modules['dataset.visa_data'])\n",
    "# from dataset.visa_data import VisaTranasactionDataset\n",
    "from dataset.amazon_time_static import AmazonWithTimePosAndStaticSplitDataset\n",
    "from dataset.amazon_time_pos import AmazonWithTimePosDataset\n",
    "from dataset.amazon_static import AmazonWithStaticSplitDataset\n",
    "from dataset.amazon import AmazonDataset"
   ]
  },
  {
   "cell_type": "code",
   "execution_count": 3,
   "metadata": {
    "collapsed": false,
    "jupyter": {
     "outputs_hidden": false
    },
    "pycharm": {
     "name": "#%%\n"
    },
    "tags": [
     "parameters"
    ]
   },
   "outputs": [],
   "source": [
    "root=\"./data/amazon_movie/\"\n",
    "fname_list=[\"Movies_and_TV_5_train\", \"Movies_and_TV_5_val\", \"Movies_and_TV_5_test\"]\n",
    "fextension=\"\"\n",
    "cached=True\n",
    "encoder_cached=True\n",
    "vocab_cached=False\n",
    "external_encoder_fname=\"\"\n",
    "external_vocab_fname=\"\""
   ]
  },
  {
   "cell_type": "code",
   "execution_count": 4,
   "metadata": {
    "collapsed": false,
    "jupyter": {
     "outputs_hidden": false
    },
    "pycharm": {
     "name": "#%%\n"
    }
   },
   "outputs": [],
   "source": [
    "if fextension == False:\n",
    "    fextension=\"\"\n",
    "if external_encoder_fname == False:\n",
    "    external_encoder_fname=\"\"\n",
    "if external_vocab_fname == False:\n",
    "    external_vocab_fname=\"\""
   ]
  },
  {
   "cell_type": "code",
   "execution_count": 5,
   "metadata": {
    "collapsed": false,
    "jupyter": {
     "outputs_hidden": false
    },
    "pycharm": {
     "name": "#%%\n"
    }
   },
   "outputs": [],
   "source": [
    "assert fextension in [\"static\", \"time\", \"static-test\", \"time-test\",\n",
    "                      \"time-pos\", \"time-pos-test\", \"\", \"test\", \"static-only\", \"static-only-test\"]"
   ]
  },
  {
   "cell_type": "code",
   "execution_count": 6,
   "metadata": {
    "collapsed": false,
    "jupyter": {
     "outputs_hidden": false
    },
    "pycharm": {
     "name": "#%%\n"
    }
   },
   "outputs": [
    {
     "name": "stderr",
     "output_type": "stream",
     "text": [
      "100%|██████████| 9/9 [00:06<00:00,  1.32it/s]\n",
      "100%|██████████| 5/5 [01:33<00:00, 18.65s/it]\n",
      "100%|██████████| 297498/297498 [03:20<00:00, 1483.11it/s]\n",
      "100%|██████████| 297498/297498 [00:32<00:00, 9260.75it/s] \n"
     ]
    }
   ],
   "source": [
    "for fname in fname_list:\n",
    "    if fextension in ['static', 'static-test']:\n",
    "        dataset = AmazonWithTimePosAndStaticSplitDataset(cls_task=True,\n",
    "                         reviewer_ids=None,\n",
    "                         seq_len=10,\n",
    "                         num_bins=10,\n",
    "                         cached=cached,\n",
    "                         encoder_cached=encoder_cached,\n",
    "                         external_encoder_fname=external_encoder_fname,\n",
    "                         vocab_cached=vocab_cached,\n",
    "                         external_vocab_fname=external_vocab_fname,\n",
    "                         root=root,\n",
    "                         fname=fname,\n",
    "                         vocab_dir=root,\n",
    "                         fextension=fextension,\n",
    "                         nrows=None,\n",
    "                         flatten=False,\n",
    "                         stride=5,\n",
    "                         adap_thres=10 ** 8,\n",
    "                         return_labels=True,\n",
    "                         label_category='last_label',\n",
    "                         pad_seq_first=False,\n",
    "                         get_rids=True,\n",
    "                         columns_to_select=None,\n",
    "                         static_columns=None,\n",
    "                         long_and_sort=True)\n",
    "    elif fextension in [\"static-only\", \"static-only-test\"]:\n",
    "        dataset = AmazonWithStaticSplitDataset(cls_task=True,\n",
    "                         reviewer_ids=None,\n",
    "                         seq_len=10,\n",
    "                         num_bins=10,\n",
    "                         cached=cached,\n",
    "                         encoder_cached=encoder_cached,\n",
    "                         external_encoder_fname=external_encoder_fname,\n",
    "                         vocab_cached=vocab_cached,\n",
    "                         external_vocab_fname=external_vocab_fname,\n",
    "                         root=root,\n",
    "                         fname=fname,\n",
    "                         vocab_dir=root,\n",
    "                         fextension=fextension,\n",
    "                         nrows=None,\n",
    "                         flatten=False,\n",
    "                         stride=5,\n",
    "                         adap_thres=10 ** 8,\n",
    "                         return_labels=True,\n",
    "                         label_category='last_label',\n",
    "                         pad_seq_first=False,\n",
    "                         get_rids=True,\n",
    "                         columns_to_select=None,\n",
    "                         static_columns=None,\n",
    "                         long_and_sort=True)\n",
    "    elif fextension in [\"time-pos\", \"time-pos-test\"]:\n",
    "        dataset = AmazonWithTimePosDataset(cls_task=True,\n",
    "                                           reviewer_ids=None,\n",
    "                                           seq_len=10,\n",
    "                                           num_bins=10,\n",
    "                                           cached=cached,\n",
    "                                         encoder_cached=encoder_cached,\n",
    "                                         external_encoder_fname=external_encoder_fname,\n",
    "                                         vocab_cached=vocab_cached,\n",
    "                                         external_vocab_fname=external_vocab_fname,\n",
    "                                         root=root,\n",
    "                                         fname=fname,\n",
    "                                         vocab_dir=root,\n",
    "                                         fextension=fextension,\n",
    "                                         nrows=None,\n",
    "                                         flatten=False,\n",
    "                                         stride=5,\n",
    "                                         adap_thres=10 ** 8,\n",
    "                                         return_labels=True,\n",
    "                                         label_category='last_label',\n",
    "                                         pad_seq_first=False,\n",
    "                                         get_rids=True,\n",
    "                                         columns_to_select=None,\n",
    "                                         static_columns=None,\n",
    "                                         long_and_sort=True)\n",
    "    elif fextension in [\"\", \"test\"]:\n",
    "        dataset = AmazonDataset(cls_task=True,\n",
    "                                 reviewer_ids=None,\n",
    "                                 seq_len=10,\n",
    "                                 num_bins=10,\n",
    "                                 cached=cached,\n",
    "                                 encoder_cached=encoder_cached,\n",
    "                                 external_encoder_fname=external_encoder_fname,\n",
    "                                 vocab_cached=vocab_cached,\n",
    "                                 external_vocab_fname=external_vocab_fname,\n",
    "                                 root=root,\n",
    "                                 fname=fname,\n",
    "                                 vocab_dir=root,\n",
    "                                 fextension=fextension,\n",
    "                                 nrows=None,\n",
    "                                 flatten=False,\n",
    "                                 stride=5,\n",
    "                                 adap_thres=10 ** 8,\n",
    "                                 return_labels=True,\n",
    "                                 label_category='last_label',\n",
    "                                 pad_seq_first=False,\n",
    "                                 get_rids=True,\n",
    "                                 columns_to_select=None,\n",
    "                                 static_columns=None,\n",
    "                                 long_and_sort=True)\n",
    "    print(f'{fname} dataset vocab length {len(dataset.vocab)}')"
   ]
  }
 ],
 "metadata": {
  "kernelspec": {
   "display_name": "py3.7-visa",
   "language": "python",
   "name": "py3.7-visa"
  },
  "language_info": {
   "codemirror_mode": {
    "name": "ipython",
    "version": 3
   },
   "file_extension": ".py",
   "mimetype": "text/x-python",
   "name": "python",
   "nbconvert_exporter": "python",
   "pygments_lexer": "ipython3",
   "version": "3.7.6"
  }
 },
 "nbformat": 4,
 "nbformat_minor": 4
}
