{
 "cells": [
  {
   "cell_type": "markdown",
   "metadata": {},
   "source": [
    "# Process Dataset"
   ]
  },
  {
   "cell_type": "code",
   "execution_count": 1,
   "metadata": {
    "collapsed": false,
    "jupyter": {
     "outputs_hidden": false
    }
   },
   "outputs": [],
   "source": [
    "# from dataset.visa_data import VisaTranasactionDataset\n",
    "# import importlib, sys\n",
    "# importlib.reload(sys.modules['dataset.visa_data'])\n",
    "# from dataset.visa_data import VisaTranasactionDataset\n",
    "from dataset.ibm_time_static import IBMWithTimePosAndStaticSplitDataset\n",
    "from dataset.ibm_time_pos import IBMWithTimePosDataset\n",
    "from dataset.ibm_static import IBMWithStaticSplitDataset\n",
    "from dataset.ibm import IBMDataset"
   ]
  },
  {
   "cell_type": "code",
   "execution_count": 2,
   "metadata": {
    "collapsed": false,
    "jupyter": {
     "outputs_hidden": false
    },
    "tags": [
     "parameters"
    ]
   },
   "outputs": [],
   "source": [
    "root=\"./data/credit_card/\"\n",
    "fname=\"card_transaction_train\"\n",
    "val_fname=\"card_transaction_val\"\n",
    "test_fname=\"card_transaction_test\"\n",
    "fextension=\"static\"\n",
    "preload_fextension=\"preload-test\"\n",
    "user_level_cached=True\n",
    "vocab_cached=False\n",
    "external_vocab_path=\"\"\n",
    "resample_method=None\n",
    "resample_ratio=10\n",
    "resample_seed=100\n",
    "external_val=False"
   ]
  },
  {
   "cell_type": "code",
   "execution_count": 3,
   "metadata": {
    "collapsed": false,
    "jupyter": {
     "outputs_hidden": false
    }
   },
   "outputs": [],
   "source": [
    "if not fextension:\n",
    "    if vocab_cached:\n",
    "        external_vocab_path=root+\"vocab_ob\"\n",
    "    fextension=\"\"\n",
    "else:\n",
    "    if vocab_cached:\n",
    "        external_vocab_path=root+\"vocab_ob_\"+ fextension\n",
    "if not preload_fextension:\n",
    "    preload_fextension=\"\"\n",
    "if not external_vocab_path:\n",
    "    external_vocab_path=\"\""
   ]
  },
  {
   "cell_type": "code",
   "execution_count": 4,
   "metadata": {
    "collapsed": false,
    "jupyter": {
     "outputs_hidden": false
    }
   },
   "outputs": [],
   "source": [
    "assert fextension in [\"static\", \"static-test\", \"time-pos\", \"time-pos-test\", \n",
    "                      \"\", \"test\", \"static-only\", \"static-only-test\"]"
   ]
  },
  {
   "cell_type": "markdown",
   "metadata": {},
   "source": [
    "pad_seq_first is True for training data, False for validation and test data."
   ]
  },
  {
   "cell_type": "code",
   "execution_count": 5,
   "metadata": {},
   "outputs": [],
   "source": [
    "dataset_class = ''\n",
    "if fextension in ['static', 'static-test']:\n",
    "    dataset_class = 'IBMWithTimePosAndStaticSplitDataset'\n",
    "elif fextension in [\"static-only\", \"static-only-test\"]:\n",
    "    dataset_class = 'IBMWithStaticSplitDataset'\n",
    "elif fextension in [\"time-pos\", \"time-pos-test\"]:\n",
    "    dataset_class = 'IBMWithTimePosDataset'\n",
    "elif fextension in [\"\", \"test\"]:\n",
    "    dataset_class = 'IBMDataset'"
   ]
  },
  {
   "cell_type": "code",
   "execution_count": 6,
   "metadata": {},
   "outputs": [
    {
     "name": "stderr",
     "output_type": "stream",
     "text": [
      "100%|██████████| 1561/1561 [06:21<00:00,  4.09it/s]\n"
     ]
    }
   ],
   "source": [
    "dataset = eval(dataset_class)(cls_task=True,\n",
    "                              user_ids=None,\n",
    "                              seq_len=10,\n",
    "                              root=root,\n",
    "                              fname=fname,\n",
    "                              user_level_cached=user_level_cached,\n",
    "                              vocab_cached=vocab_cached,\n",
    "                              external_vocab_path=external_vocab_path,\n",
    "                              preload_vocab_dir=root,\n",
    "                              save_vocab_dir=root,\n",
    "                              preload_fextension=preload_fextension,\n",
    "                              fextension=fextension,\n",
    "                              nrows=None,\n",
    "                              flatten=False,\n",
    "                              stride=5,\n",
    "                              return_labels=True,\n",
    "                              label_category='last_label',\n",
    "                              pad_seq_first=True,\n",
    "                              get_rids=True,\n",
    "                              long_and_sort=True,\n",
    "                              resample_method=resample_method,\n",
    "                              resample_ratio=resample_ratio,\n",
    "                              resample_seed=resample_seed)"
   ]
  },
  {
   "cell_type": "code",
   "execution_count": 19,
   "metadata": {},
   "outputs": [
    {
     "name": "stdout",
     "output_type": "stream",
     "text": [
      "negative samples 42430\n",
      "positive samples 4243\n",
      "all negative samples 3431194\n",
      "all positive samples 4243\n"
     ]
    }
   ],
   "source": [
    "print('negative samples', len([label for label in dataset.labels if label[-1] ==0]))\n",
    "print('positive samples', len([label for label in dataset.labels if label[-1] ==1]))\n",
    "print('all negative samples', len([label for label in dataset.all_labels if label[-1] ==0]))\n",
    "print('all positive samples', len([label for label in dataset.all_labels if label[-1] ==1]))"
   ]
  },
  {
   "cell_type": "code",
   "execution_count": 8,
   "metadata": {},
   "outputs": [],
   "source": [
    "if not external_vocab_path:\n",
    "    external_vocab_path=dataset.vocab_path\n",
    "vocab_cached=True"
   ]
  },
  {
   "cell_type": "code",
   "execution_count": 9,
   "metadata": {},
   "outputs": [
    {
     "name": "stderr",
     "output_type": "stream",
     "text": [
      "100%|██████████| 1590/1590 [00:49<00:00, 32.33it/s]\n"
     ]
    }
   ],
   "source": [
    "if external_val:\n",
    "    val_dataset = eval(dataset_class)(cls_task=True,\n",
    "                                      user_ids=None,\n",
    "                                      seq_len=10,\n",
    "                                      root=root,\n",
    "                                      fname=val_fname,\n",
    "                                      user_level_cached=user_level_cached,\n",
    "                                      vocab_cached=vocab_cached,\n",
    "                                      external_vocab_path=external_vocab_path,\n",
    "                                      preload_vocab_dir=root,\n",
    "                                      save_vocab_dir=root,\n",
    "                                      preload_fextension=preload_fextension,\n",
    "                                      fextension=fextension,\n",
    "                                      nrows=None,\n",
    "                                      flatten=False,\n",
    "                                      stride=5,\n",
    "                                      return_labels=True,\n",
    "                                      label_category='last_label',\n",
    "                                      pad_seq_first=False,\n",
    "                                      get_rids=True,\n",
    "                                      long_and_sort=True,\n",
    "                                      resample_method=resample_method,\n",
    "                                      resample_ratio=resample_ratio,\n",
    "                                      resample_seed=resample_seed)"
   ]
  },
  {
   "cell_type": "code",
   "execution_count": 20,
   "metadata": {},
   "outputs": [
    {
     "name": "stdout",
     "output_type": "stream",
     "text": [
      "negative samples 7500\n",
      "positive samples 750\n",
      "all negative samples 686306\n",
      "all positive samples 750\n"
     ]
    }
   ],
   "source": [
    "if external_val:\n",
    "    print('negative samples', len([label for label in val_dataset.labels if label[-1] ==0]))\n",
    "    print('positive samples', len([label for label in val_dataset.labels if label[-1] ==1]))\n",
    "    print('all negative samples', len([label for label in val_dataset.all_labels if label[-1] ==0]))\n",
    "    print('all positive samples', len([label for label in val_dataset.all_labels if label[-1] ==1]))"
   ]
  },
  {
   "cell_type": "code",
   "execution_count": 11,
   "metadata": {},
   "outputs": [
    {
     "name": "stderr",
     "output_type": "stream",
     "text": [
      "100%|██████████| 1964/1964 [02:05<00:00, 15.71it/s]\n"
     ]
    }
   ],
   "source": [
    "test_dataset = eval(dataset_class)(cls_task=True,\n",
    "                                  user_ids=None,\n",
    "                                  seq_len=10,\n",
    "                                  root=root,\n",
    "                                  fname=test_fname,\n",
    "                                  user_level_cached=user_level_cached,\n",
    "                                  vocab_cached=vocab_cached,\n",
    "                                  external_vocab_path=external_vocab_path,\n",
    "                                  preload_vocab_dir=root,\n",
    "                                  save_vocab_dir=root,\n",
    "                                  preload_fextension=preload_fextension,\n",
    "                                  fextension=fextension,\n",
    "                                  nrows=None,\n",
    "                                  flatten=False,\n",
    "                                  stride=1,\n",
    "                                  return_labels=True,\n",
    "                                  label_category='last_label',\n",
    "                                  pad_seq_first=False,\n",
    "                                  get_rids=True,\n",
    "                                  long_and_sort=True,\n",
    "                                  resample_method=None)"
   ]
  },
  {
   "cell_type": "code",
   "execution_count": 21,
   "metadata": {},
   "outputs": [
    {
     "name": "stdout",
     "output_type": "stream",
     "text": [
      "negative samples 3773643\n",
      "positive samples 4578\n",
      "all negative samples 0\n",
      "all positive samples 0\n"
     ]
    }
   ],
   "source": [
    "print('negative samples', len([label for label in test_dataset.labels if label[-1] ==0]))\n",
    "print('positive samples', len([label for label in test_dataset.labels if label[-1] ==1]))\n",
    "print('all negative samples', len([label for label in test_dataset.all_labels if label[-1] ==0]))\n",
    "print('all positive samples', len([label for label in test_dataset.all_labels if label[-1] ==1]))"
   ]
  },
  {
   "cell_type": "code",
   "execution_count": 13,
   "metadata": {},
   "outputs": [
    {
     "name": "stdout",
     "output_type": "stream",
     "text": [
      "['Year', 'Month', 'Day', 'Hour', 'Amount', 'Use Chip', 'Merchant Name', 'Merchant City', 'Merchant State', 'Zip', 'MCC', 'Errors?', 'timeFeature', 'avg_dollar_amt', 'std_dollar_amt', 'top_mcc', 'top_chip']\n",
      "OrderedDict([('Year', None), ('Month', None), ('Day', None), ('Hour', None), ('Amount', None), ('Use Chip', None), ('Merchant Name', None), ('Merchant City', None), ('Merchant State', None), ('Zip', None), ('MCC', None), ('Errors?', None), ('Is Fraud?', None), ('timeFeature', None), ('avg_dollar_amt', None), ('std_dollar_amt', None), ('top_mcc', None), ('top_chip', None), ('SPECIAL', None)])\n"
     ]
    }
   ],
   "source": [
    "from os import path\n",
    "import pickle\n",
    "fname = path.join(test_dataset.root, f\"preprocessed/{test_dataset.fname}.user{test_dataset.fextension}.pkl\")\n",
    "cached_data = pickle.load(open(fname, \"rb\"))\n",
    "print(cached_data[\"columns\"])\n",
    "print(test_dataset.vocab.field_keys)"
   ]
  },
  {
   "cell_type": "code",
   "execution_count": 14,
   "metadata": {},
   "outputs": [
    {
     "name": "stdout",
     "output_type": "stream",
     "text": [
      "126486 126427 18 55\n",
      "126486\n",
      "126486\n"
     ]
    }
   ],
   "source": [
    "try:\n",
    "    print(len(dataset.vocab), len(dataset.dynamic_vocab), len(dataset.time_feature_vocab), len(dataset.static_vocab))\n",
    "except:\n",
    "    print(len(dataset.vocab))\n",
    "if external_val:\n",
    "    print(len(val_dataset.vocab))\n",
    "print(len(test_dataset.vocab))"
   ]
  },
  {
   "cell_type": "code",
   "execution_count": 15,
   "metadata": {},
   "outputs": [
    {
     "name": "stdout",
     "output_type": "stream",
     "text": [
      "18 18 18\n",
      "46673 8250 3778221\n",
      "(tensor([[    21,     39,     63,     89,    110,    115,    441,  87332,  99816,\n",
      "         100443, 126294, 126400, 126435, 126440, 126454, 126461, 126483,      1],\n",
      "        [    21,     39,     53,     89,    110,    115,    990,  87332,  99816,\n",
      "         100443, 126296, 126400, 126435, 126440, 126454, 126461, 126483,      1],\n",
      "        [    21,     39,     53,     93,    107,    115,    138,  87332,  99816,\n",
      "         100443, 126300, 126400, 126435, 126440, 126454, 126461, 126483,      1],\n",
      "        [    21,     39,     66,     89,    110,    115,    137,  87332,  99816,\n",
      "         100443, 126294, 126400, 126435, 126440, 126454, 126461, 126483,      1],\n",
      "        [    21,     39,     66,     86,    108,    115,   4192,  87332,  99816,\n",
      "         100443, 126299, 126400, 126435, 126440, 126454, 126461, 126483,      1],\n",
      "        [    21,     39,     61,     89,    107,    115,    141,  87332,  99816,\n",
      "         100443, 126301, 126401, 126435, 126440, 126454, 126461, 126483,      1],\n",
      "        [    21,     39,     61,     89,    110,    115,    141,  87332,  99816,\n",
      "         100443, 126301, 126400, 126435, 126440, 126454, 126461, 126483,      1],\n",
      "        [    21,     39,     47,     89,    110,    115,    121,  87001,  99816,\n",
      "         100090, 126292, 126400, 126435, 126440, 126454, 126461, 126483,      1],\n",
      "        [    21,     39,     47,     89,    108,    115,    129,  87556,  99816,\n",
      "         101953, 126305, 126400, 126435, 126440, 126454, 126461, 126483,      1],\n",
      "        [    21,     39,     47,     84,    105,    115,    147,  87556,  99816,\n",
      "         101224, 126290, 126400, 126435, 126440, 126454, 126461, 126483,      1]]), tensor([0]))\n",
      "dataset len [torch.Size([10, 18]), torch.Size([1])]\n",
      "(tensor([[     7,     43,     53,     89,    110,    115,    937,  87332,  99816,\n",
      "         100443, 126290, 126400, 126430, 126440, 126454, 126461, 126483,      1],\n",
      "        [     7,     43,     53,     89,    111,    117,    129,  87556,  99816,\n",
      "         101953, 126305, 126400, 126430, 126440, 126454, 126461, 126483,      1],\n",
      "        [     7,     43,     53,     87,    107,    116,    268,  86848,  99817,\n",
      "         100031, 126315, 126400, 126430, 126440, 126454, 126461, 126483,      1],\n",
      "        [     7,     43,     66,     89,    111,    117,    937,  87332,  99816,\n",
      "         100443, 126290, 126400, 126430, 126440, 126454, 126461, 126483,      1],\n",
      "        [     7,     43,     66,     79,    113,    117,    137,  87332,  99816,\n",
      "         100443, 126294, 126400, 126430, 126440, 126454, 126461, 126483,      1],\n",
      "        [     7,     43,     61,     89,    110,    117,    141,  87332,  99816,\n",
      "         100443, 126301, 126400, 126430, 126440, 126454, 126461, 126483,      1],\n",
      "        [     7,     43,     61,     81,    106,    115,   4097,  87332,  99816,\n",
      "         100443, 126293, 126400, 126430, 126440, 126454, 126461, 126483,      1],\n",
      "        [     7,     43,     47,     89,    111,    115,    937,  87332,  99816,\n",
      "         100443, 126290, 126400, 126430, 126440, 126454, 126461, 126483,      1],\n",
      "        [     7,     43,     47,     84,    105,    117,    121,  87001,  99816,\n",
      "         100090, 126292, 126400, 126430, 126440, 126454, 126461, 126483,      1],\n",
      "        [     7,     43,     58,     96,    110,    115,    937,  87332,  99816,\n",
      "         100443, 126290, 126401, 126430, 126440, 126454, 126461, 126483,      1]]), tensor([0]))\n",
      "val_dataset len [torch.Size([10, 18]), torch.Size([1])]\n",
      "(tensor([[     7,     34,     75,     89,    110,    116,    167,  86848,  99817,\n",
      "         100031, 126301, 126400, 126430, 126440, 126454, 126461, 126483,      1],\n",
      "        [     7,     34,     75,     89,    108,    115,    137,  87332,  99816,\n",
      "         100443, 126294, 126400, 126430, 126440, 126454, 126461, 126483,      1],\n",
      "        [     7,     34,     75,     86,    108,    117,   4192,  87332,  99816,\n",
      "         100443, 126299, 126400, 126430, 126440, 126454, 126461, 126483,      1],\n",
      "        [     7,     34,     75,     82,    109,    117,    193,  87332,  99816,\n",
      "         100443, 126299, 126400, 126430, 126440, 126454, 126461, 126483,      1],\n",
      "        [     7,     34,     75,     93,    109,    115,   4097,  87332,  99816,\n",
      "         100443, 126293, 126400, 126430, 126440, 126454, 126461, 126483,      1],\n",
      "        [     7,     34,     76,     89,    110,    115,    137,  87332,  99816,\n",
      "         100443, 126294, 126400, 126430, 126440, 126454, 126461, 126483,      1],\n",
      "        [     7,     34,     77,     89,    110,    117,    126,  87332,  99816,\n",
      "         100443, 126296, 126400, 126430, 126440, 126454, 126461, 126483,      1],\n",
      "        [     7,     34,     77,     89,    104,    117,    129,  87556,  99816,\n",
      "         101953, 126305, 126400, 126430, 126440, 126454, 126461, 126483,      1],\n",
      "        [     7,     34,     77,     94,    113,    115,   1481,  87001,  99816,\n",
      "         100090, 126308, 126400, 126430, 126440, 126454, 126461, 126483,      1],\n",
      "        [     7,     43,     50,     96,    110,    115,    121,  87001,  99816,\n",
      "         100090, 126292, 126400, 126430, 126440, 126454, 126461, 126483,      1]]), tensor([0]))\n",
      "test_dataset len [torch.Size([10, 18]), torch.Size([1])]\n"
     ]
    }
   ],
   "source": [
    "if external_val:\n",
    "    print(dataset.ncols, val_dataset.ncols, test_dataset.ncols)\n",
    "    print(len(dataset), len(val_dataset), len(test_dataset))\n",
    "else:\n",
    "    print(dataset.ncols, test_dataset.ncols)\n",
    "    print(len(dataset), len(test_dataset))\n",
    "print(dataset[0])\n",
    "print('dataset len', [i.shape for i in dataset[0]])\n",
    "if external_val:\n",
    "    print(val_dataset[0])\n",
    "    print('val_dataset len', [i.shape for i in val_dataset[0]])\n",
    "print(test_dataset[0])\n",
    "print('test_dataset len', [i.shape for i in test_dataset[0]])"
   ]
  }
 ],
 "metadata": {
  "kernelspec": {
   "display_name": "py3.7-visa",
   "language": "python",
   "name": "py3.7-visa"
  },
  "language_info": {
   "codemirror_mode": {
    "name": "ipython",
    "version": 3
   },
   "file_extension": ".py",
   "mimetype": "text/x-python",
   "name": "python",
   "nbconvert_exporter": "python",
   "pygments_lexer": "ipython3",
   "version": "3.7.6"
  }
 },
 "nbformat": 4,
 "nbformat_minor": 4
}
